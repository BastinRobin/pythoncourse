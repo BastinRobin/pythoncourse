{
 "cells": [
  {
   "cell_type": "markdown",
   "metadata": {},
   "source": [
    "# Working with Files"
   ]
  },
  {
   "cell_type": "markdown",
   "metadata": {},
   "source": [
    "This module covers working with files and folders.\n",
    "\n",
    "Suggested reading:\n",
    "\n",
    "* [Working with Files section in Python Practice Book][1]\n",
    "* [os module on Python-module-of-the-week][2]\n",
    "* [os.path module on Python-module-of-the-week][3]\n",
    "* [glob module on Python-module-of-the-week][4]\n",
    "* [shutil module on Python-module-of-the-week][5]\n",
    "\n",
    "[1]: http://anandology.com/python-practice-book/working-with-data.html#working-with-files\n",
    "[2]: http://pymotw.com/2/os/index.html\n",
    "[3]: http://pymotw.com/2/ospath/index.html\n",
    "[4]: http://pymotw.com/2/glob/index.html\n",
    "[5]: http://pymotw.com/2/shutil/index.html"
   ]
  },
  {
   "cell_type": "markdown",
   "metadata": {},
   "source": [
    "## How to write tests and run them"
   ]
  },
  {
   "cell_type": "markdown",
   "metadata": {},
   "source": [
    "The following a working prototype. It is just a proof-of-concept thing, needs to be improved a lot.\n",
    "\n",
    "Each problem is specified as a single file with the problem statement specified as doc string and rest of the file containing test cases.\n",
    "\n",
    "`py.test` is used for testing. @anand_s please let me know if you would like to use something else.\n"
   ]
  },
  {
   "cell_type": "markdown",
   "metadata": {},
   "source": [
    "## Problem 1"
   ]
  },
  {
   "cell_type": "markdown",
   "metadata": {},
   "source": [
    "Lets try a sample program and see how automated testing works."
   ]
  },
  {
   "cell_type": "code",
   "execution_count": 24,
   "metadata": {
    "collapsed": false
   },
   "outputs": [
    {
     "name": "stdout",
     "output_type": "stream",
     "text": [
      "Overwriting test_head.py\n"
     ]
    }
   ],
   "source": [
    "%%file test_head.py\n",
    "\"\"\"Problem 1: Write a program head.py that takes a filename as command-line argument and prints first 5 lines of it.\n",
    "\"\"\"\n",
    "import os\n",
    "\n",
    "def assert_output(cmd, expected_output):\n",
    "    # TODO: this function has to be improved and move to an utility function\n",
    "    program = os.getenv(\"PROGRAM\")\n",
    "    cmd = cmd.replace(\"$PROGRAM\", program)\n",
    "    output = os.popen(cmd).read()\n",
    "    # TODO: check exit status of the program\n",
    "    assert output.strip(\"\\n\") == expected_output.strip(\"\\n\")\n",
    "    \n",
    "def test_head(tmpdir):\n",
    "    p = tmpdir.join(\"ten.txt\")\n",
    "    os.system(\"seq 10 > {}\".format(p.strpath))\n",
    "    \n",
    "    assert_output(\"python $PROGRAM {}\".format(p.strpath), \"1\\n2\\n3\\n4\\n5\\n\")\n",
    "\n",
    "def test_head_with_fewer_lines(tmpdir):    \n",
    "    p = tmpdir.join(\"one.txt\")\n",
    "    os.system(\"echo 1 > {}\".format(p.strpath))\n",
    "    assert_output(\"python $PROGRAM {}\".format(p.strpath), \"1\\n\")"
   ]
  },
  {
   "cell_type": "code",
   "execution_count": 22,
   "metadata": {
    "collapsed": false
   },
   "outputs": [
    {
     "name": "stdout",
     "output_type": "stream",
     "text": [
      "Overwriting head.py\n"
     ]
    }
   ],
   "source": [
    "%%file head.py\n",
    "# this is sample implementation added here to try the test\n",
    "import sys\n",
    "\n",
    "def head(filename, nlines=5):\n",
    "    lines = open(filename).readlines()[:nlines]\n",
    "    return \"\".join(lines)\n",
    "\n",
    "def main():\n",
    "    filename = sys.argv[1]\n",
    "    nlines = 5\n",
    "    \n",
    "    print head(filename, nlines)\n",
    "    \n",
    "if __name__ == \"__main__\":\n",
    "    main()"
   ]
  },
  {
   "cell_type": "code",
   "execution_count": 8,
   "metadata": {
    "collapsed": false
   },
   "outputs": [
    {
     "name": "stdout",
     "output_type": "stream",
     "text": [
      "1\r\n",
      "2\r\n",
      "3\r\n",
      "4\r\n",
      "5\r\n",
      "\r\n"
     ]
    }
   ],
   "source": [
    "!bash -c 'python head.py <(seq 10)'"
   ]
  },
  {
   "cell_type": "code",
   "execution_count": 25,
   "metadata": {
    "collapsed": false
   },
   "outputs": [
    {
     "name": "stdout",
     "output_type": "stream",
     "text": [
      "\u001b[1m============================= test session starts ==============================\u001b[0m\n",
      "platform darwin -- Python 2.7.8 -- pytest-2.3.4\n",
      "collected 2 items \n",
      "\u001b[0m\n",
      "test_head.py ..\n",
      "\n",
      "\u001b[1m=========================== 2 passed in 0.15 seconds ===========================\u001b[0m\n"
     ]
    }
   ],
   "source": [
    "!PROGRAM=head.py py.test test_head.py "
   ]
  },
  {
   "cell_type": "markdown",
   "metadata": {},
   "source": [
    "What happens if the test failes? Lets try with a wrong program."
   ]
  },
  {
   "cell_type": "code",
   "execution_count": 26,
   "metadata": {
    "collapsed": false
   },
   "outputs": [
    {
     "name": "stdout",
     "output_type": "stream",
     "text": [
      "Writing nothead.py\n"
     ]
    }
   ],
   "source": [
    "%%file nothead.py\n",
    "print 1"
   ]
  },
  {
   "cell_type": "code",
   "execution_count": 29,
   "metadata": {
    "collapsed": false
   },
   "outputs": [
    {
     "name": "stdout",
     "output_type": "stream",
     "text": [
      "\u001b[1m============================= test session starts ==============================\u001b[0m\n",
      "platform darwin -- Python 2.7.8 -- pytest-2.3.4\n",
      "collected 2 items \n",
      "\u001b[0m\n",
      "test_head.py F.\n",
      "\n",
      "=================================== FAILURES ===================================\n",
      "__________________________________ test_head ___________________________________\n",
      "\n",
      "tmpdir = local('/private/var/folders/pg/8_2q1mtx03j0w_dj_0r4s56w0000gn/T/pytest-5/test_head0')\n",
      "\n",
      "\u001b[1m    def test_head(tmpdir):\u001b[0m\n",
      "\u001b[1m        p = tmpdir.join(\"ten.txt\")\u001b[0m\n",
      "\u001b[1m        os.system(\"seq 10 > {}\".format(p.strpath))\u001b[0m\n",
      "\u001b[1m    \u001b[0m\n",
      "\u001b[1m>       assert_output(\"python $PROGRAM {}\".format(p.strpath), \"1\\n2\\n3\\n4\\n5\\n\")\u001b[0m\n",
      "\n",
      "test_head.py:16: \n",
      "_ _ _ _ _ _ _ _ _ _ _ _ _ _ _ _ _ _ _ _ _ _ _ _ _ _ _ _ _ _ _ _ _ _ _ _ _ _ _ _ \n",
      "\n",
      "cmd = 'python nothead.py /private/var/folders/pg/8_2q1mtx03j0w_dj_0r4s56w0000gn/T/pytest-5/test_head0/ten.txt'\n",
      "expected_output = '1\\n2\\n3\\n4\\n5\\n'\n",
      "\n",
      "\u001b[1m    def assert_output(cmd, expected_output):\u001b[0m\n",
      "\u001b[1m        program = os.getenv(\"PROGRAM\")\u001b[0m\n",
      "\u001b[1m        cmd = cmd.replace(\"$PROGRAM\", program)\u001b[0m\n",
      "\u001b[1m        output = os.popen(cmd).read()\u001b[0m\n",
      "\u001b[1m        # TODO: check exit status of the program\u001b[0m\n",
      "\u001b[1m>       assert output.strip(\"\\n\") == expected_output.strip(\"\\n\")\u001b[0m\n",
      "\u001b[1m\u001b[31mE       assert '1' == '1\\n2\\n3\\n4\\n5'\u001b[0m\n",
      "\u001b[1m\u001b[31mE           1\u001b[0m\n",
      "\u001b[1m\u001b[31mE         + 2\u001b[0m\n",
      "\u001b[1m\u001b[31mE         + 3\u001b[0m\n",
      "\u001b[1m\u001b[31mE         + 4\u001b[0m\n",
      "\u001b[1m\u001b[31mE         + 5\u001b[0m\n",
      "\n",
      "test_head.py:10: AssertionError\n",
      "\u001b[1m====================== 1 failed, 1 passed in 0.11 seconds ======================\u001b[0m\n"
     ]
    }
   ],
   "source": [
    "!PROGRAM=nothead.py py.test test_head.py"
   ]
  },
  {
   "cell_type": "markdown",
   "metadata": {},
   "source": [
    "We probably don't have to show the stack trace, but only name or docstring of the test failed."
   ]
  },
  {
   "cell_type": "code",
   "execution_count": null,
   "metadata": {
    "collapsed": true
   },
   "outputs": [],
   "source": []
  }
 ],
 "metadata": {
  "kernelspec": {
   "display_name": "Python 2",
   "language": "python",
   "name": "python2"
  },
  "language_info": {
   "codemirror_mode": {
    "name": "ipython",
    "version": 2
   },
   "file_extension": ".py",
   "mimetype": "text/x-python",
   "name": "python",
   "nbconvert_exporter": "python",
   "pygments_lexer": "ipython2",
   "version": "2.7.8"
  }
 },
 "nbformat": 4,
 "nbformat_minor": 0
}
